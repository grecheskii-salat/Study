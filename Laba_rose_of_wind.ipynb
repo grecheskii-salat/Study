{
 "cells": [
  {
   "cell_type": "code",
   "execution_count": 31,
   "id": "2b4e5a00-e909-46c5-8b15-f8a0cd48516b",
   "metadata": {},
   "outputs": [],
   "source": [
    "import numpy as np\n",
    "import matplotlib.pyplot as plt\n",
    "import plotly.graph_objects as go\n",
    "from plotly.subplots import make_subplots"
   ]
  },
  {
   "cell_type": "code",
   "execution_count": 32,
   "id": "0f155583-0712-4485-b72a-a21fe064a512",
   "metadata": {},
   "outputs": [],
   "source": [
    "V1 = [28, 28, 23, 29, 30, 32, 28, 41, 35, 39, 40, 33]    # Объемы из пробирок\n",
    "V2 = [35, 33.5, 34, 32.5, 40, 41.5, 40, 55, 38, 48, 49, 50]\n",
    "V3 = [28, 42, 40, 38, 36, 45, 40, 52, 50, 50, 46, 48]\n",
    "V4 = [25, 30, 23, 28, 37, 37, 33, 38, 39, 38, 33, 45]\n",
    "V5 = [30, 25, 30, 32, 33, 38, 37, 43, 40, 40, 43, 37]\n",
    "# V6 = []"
   ]
  },
  {
   "cell_type": "code",
   "execution_count": 33,
   "id": "6772c7c4-9193-41de-97c8-3ed23fcea69d",
   "metadata": {},
   "outputs": [],
   "source": [
    "percent1 = [24, 18, 18, 24, 26, 26, 26, 24, 28, 28, 25, 28]    # В данной лабе содерж. спирта == Kmi (читай методу)\n",
    "percent2 = [30, 21, 21, 24, 27, 26, 28, 24, 30, 28, 23, 28]\n",
    "percent3 = [29, 20, 17.5, 20.5, 25, 24, 25, 24, 27, 26, 21.5, 26]\n",
    "percent4 = [35, 30, 27, 26, 30, 28, 31, 30, 33, 32, 28, 32]\n",
    "percent5 = [40, 40, 36.5, 32.5, 38.5, 36.5, 42.5, 38.5, 45, 40, 36, 42.5]\n",
    "# percent6 = []"
   ]
  },
  {
   "cell_type": "code",
   "execution_count": 34,
   "id": "43351b72-3ff2-4cc2-b2c6-e65958f1b5f2",
   "metadata": {},
   "outputs": [],
   "source": [
    "tau = [5.85, 6.23, 5.33, 4.33, 3.16]     # время эксперимента\n",
    "\n",
    "delta_po = [0.125, 0.25, 0.375, 0.5, 0.625]     # перепад давления на форсунках\n",
    "delta_pg = [0.125, 0.25, 0.375, 0.5, 0.625]"
   ]
  },
  {
   "cell_type": "code",
   "execution_count": 35,
   "id": "b2c2ff71-fa86-4729-adda-ac8b3435dda7",
   "metadata": {},
   "outputs": [],
   "source": [
    "ExpV = [V1, V2, V3, V4, V5]\n",
    "ExpP = [percent1, percent2, percent3, percent4, percent5]    # Здесь создаю общий список с нашими экспериментами "
   ]
  },
  {
   "cell_type": "code",
   "execution_count": 36,
   "id": "cb48c987-eddb-47bb-8195-2385c24d274b",
   "metadata": {},
   "outputs": [],
   "source": [
    "V_sum = []\n",
    "V_sred = []\n",
    "V_otn = []\n",
    "V_min = []    # Пустые списки объявляю для того, чтобы в последующих операциях закидывать туда элементы\n",
    "V_max = []\n",
    "K_nq = []\n",
    "for i in ExpV:\n",
    "    sum = 0\n",
    "    for j in i:\n",
    "        sum += j\n",
    "    sred = sum / 12\n",
    "    V_otn_exp = []\n",
    "    for j in i:\n",
    "        otn = j / sred\n",
    "        V_otn_exp.append(round(otn,3))      # Относительное кол-во топлива в каждом секторе (колбе)\n",
    "    V_min.append(min(i))\n",
    "    V_max.append(max(i))\n",
    "    V_otn.append(V_otn_exp)\n",
    "    V_sred.append(sred)\n",
    "    V_sum.append(sum)\n",
    "\n",
    "for k in range(len(V_min)):\n",
    "    K_nqi = ((V_max[k]-V_min[k]) / V_sred[k])*100   # Коэффициент неравномерности расходонапряженности\n",
    "    K_nq.append(K_nqi)"
   ]
  },
  {
   "cell_type": "code",
   "execution_count": 37,
   "id": "eb746140-0f8e-493d-a329-2f3432c84f87",
   "metadata": {},
   "outputs": [],
   "source": [
    "Km_sred = []\n",
    "Km_otn = []\n",
    "Km_min = []    # Пустые списки объявляю для того, чтобы в последующих операциях закидывать туда элементы\n",
    "Km_max = []\n",
    "K_nkm = []\n",
    "for g in range(len(ExpV)):\n",
    "    sum_km = 0\n",
    "    for h in range(len(V1)):  # Умножение соответствующих элементов\n",
    "        sum_km += (ExpV[g][h] * ExpP[g][h])\n",
    "    Km_sred_exp = (sum_km) / V_sum[g]\n",
    "    Km_otn_exp = []\n",
    "    for h in range(len(V1)):\n",
    "        otn_exp = ExpP[g][h] / Km_sred_exp\n",
    "        Km_otn_exp.append(round(otn_exp,3))    # Здесь я искал относительное соотношение компонентов\n",
    "    Km_sred.append(Km_sred_exp)\n",
    "    Km_otn.append(Km_otn_exp)\n",
    "\n",
    "for m in ExpP:\n",
    "    Km_min.append(min(m))\n",
    "    Km_max.append(max(m))\n",
    "\n",
    "for n in range(len(Km_min)):\n",
    "    K_nkmi = ((Km_max[n]-Km_min[n]) / Km_sred[n])*100    # Коэффициент неравномерности по соотношению компонентов\n",
    "    K_nkm.append(K_nkmi)"
   ]
  },
  {
   "cell_type": "code",
   "execution_count": 38,
   "id": "0c2a4a0e",
   "metadata": {},
   "outputs": [
    {
     "name": "stdout",
     "output_type": "stream",
     "text": [
      "[24.8860103626943, 25.896273917421954, 23.778640776699028, 30.295566502463053, 39.11448598130841]\n",
      "[[0.964, 0.723, 0.723, 0.964, 1.045, 1.045, 1.045, 0.964, 1.125, 1.125, 1.005, 1.125], [1.158, 0.811, 0.811, 0.927, 1.043, 1.004, 1.081, 0.927, 1.158, 1.081, 0.888, 1.081], [1.22, 0.841, 0.736, 0.862, 1.051, 1.009, 1.051, 1.009, 1.135, 1.093, 0.904, 1.093], [1.155, 0.99, 0.891, 0.858, 0.99, 0.924, 1.023, 0.99, 1.089, 1.056, 0.924, 1.056], [1.023, 1.023, 0.933, 0.831, 0.984, 0.933, 1.087, 0.984, 1.15, 1.023, 0.92, 1.087]]\n",
      "[40.18321882156985, 34.754034610149716, 48.36273068757146, 29.70731707317073, 31.95746968520399]\n"
     ]
    }
   ],
   "source": [
    "print(Km_sred)\n",
    "print(Km_otn)    # Наши выводы (можете объединить в один блок, но мне так чо по каифу)\n",
    "print(K_nkm)"
   ]
  },
  {
   "cell_type": "code",
   "execution_count": 39,
   "id": "0e99a512-6465-4954-b762-909e6e49d8ad",
   "metadata": {},
   "outputs": [
    {
     "name": "stdout",
     "output_type": "stream",
     "text": [
      "[386, 496.5, 515, 406, 428]\n",
      "[32.166666666666664, 41.375, 42.916666666666664, 33.833333333333336, 35.666666666666664]\n",
      "[[0.87, 0.87, 0.715, 0.902, 0.933, 0.995, 0.87, 1.275, 1.088, 1.212, 1.244, 1.026], [0.846, 0.81, 0.822, 0.785, 0.967, 1.003, 0.967, 1.329, 0.918, 1.16, 1.184, 1.208], [0.652, 0.979, 0.932, 0.885, 0.839, 1.049, 0.932, 1.212, 1.165, 1.165, 1.072, 1.118], [0.739, 0.887, 0.68, 0.828, 1.094, 1.094, 0.975, 1.123, 1.153, 1.123, 0.975, 1.33], [0.841, 0.701, 0.841, 0.897, 0.925, 1.065, 1.037, 1.206, 1.121, 1.121, 1.206, 1.037]]\n",
      "[23, 32.5, 28, 23, 25]\n",
      "[41, 55, 52, 45, 43]\n",
      "[55.95854922279793, 54.38066465256798, 55.92233009708738, 65.02463054187191, 50.46728971962617]\n"
     ]
    }
   ],
   "source": [
    "print(V_sum)\n",
    "print(V_sred)\n",
    "print(V_otn)    # Тоже выводы, но другие \n",
    "print(V_min)\n",
    "print(V_max)\n",
    "print(K_nq)"
   ]
  },
  {
   "cell_type": "code",
   "execution_count": 40,
   "id": "2444683c-e7cf-4c18-970d-e047a8895188",
   "metadata": {},
   "outputs": [],
   "source": [
    "values_array_V = np.array(V_otn)\n",
    "values_array_Km = np.array(Km_otn)    # Здесь для удобства работы (чо по каифу) перевел в массив Numpy\n",
    "values_array_K_nq = np.array(K_nq)\n",
    "values_array_K_nkm = np.array(K_nkm)\n",
    "\n",
    "arg_array = np.array(range(1,13))"
   ]
  },
  {
   "cell_type": "code",
   "execution_count": 42,
   "id": "a4281bb3-dc73-4202-9858-017a79e491f8",
   "metadata": {},
   "outputs": [
    {
     "data": {
      "application/vnd.plotly.v1+json": {
       "config": {
        "plotlyServerURL": "https://plot.ly"
       },
       "data": [
        {
         "name": "Относительное кол-во топлива в каждом секторе (V_otn)",
         "r": [
          0.846,
          0.81,
          0.822,
          0.785,
          0.967,
          1.003,
          0.967,
          1.329,
          0.918,
          1.16,
          1.184,
          1.208
         ],
         "subplot": "polar",
         "theta": [
          0,
          30,
          60,
          90,
          120,
          150,
          180,
          210,
          240,
          270,
          300,
          330,
          360
         ],
         "thetaunit": "degrees",
         "type": "scatterpolar"
        },
        {
         "name": "Относительное значение соотношения компонентов (Km_otn)",
         "r": [
          1.158,
          0.811,
          0.811,
          0.927,
          1.043,
          1.004,
          1.081,
          0.927,
          1.158,
          1.081,
          0.888,
          1.081
         ],
         "subplot": "polar2",
         "theta": [
          0,
          30,
          60,
          90,
          120,
          150,
          180,
          210,
          240,
          270,
          300,
          330,
          360
         ],
         "thetaunit": "degrees",
         "type": "scatterpolar"
        },
        {
         "name": "Коэф-т неравномерности по объемной расходнонапр (K_nq)",
         "type": "scatter",
         "x": [
          0.125,
          0.25,
          0.375,
          0.5,
          0.625
         ],
         "xaxis": "x",
         "y": [
          55.95854922279793,
          54.38066465256798,
          55.92233009708738,
          65.02463054187191,
          50.46728971962617
         ],
         "yaxis": "y"
        },
        {
         "name": "Коэф-т неравномерности по соотн. компонентов (K_nkm)",
         "type": "scatter",
         "x": [
          0.125,
          0.25,
          0.375,
          0.5,
          0.625
         ],
         "xaxis": "x2",
         "y": [
          40.18321882156985,
          34.754034610149716,
          48.36273068757146,
          29.70731707317073,
          31.95746968520399
         ],
         "yaxis": "y2"
        }
       ],
       "layout": {
        "height": 1700,
        "polar": {
         "angularaxis": {
          "dtick": 0.5235987755982988,
          "thetaunit": "radians"
         },
         "domain": {
          "x": [
           0,
           1
          ],
          "y": [
           0.80625,
           1
          ]
         },
         "radialaxis": {
          "categoryorder": "category descending"
         }
        },
        "polar2": {
         "angularaxis": {
          "dtick": 0.5235987755982988,
          "thetaunit": "radians"
         },
         "domain": {
          "x": [
           0,
           1
          ],
          "y": [
           0.5375,
           0.73125
          ]
         },
         "radialaxis": {
          "categoryorder": "category descending"
         }
        },
        "template": {
         "data": {
          "bar": [
           {
            "error_x": {
             "color": "#2a3f5f"
            },
            "error_y": {
             "color": "#2a3f5f"
            },
            "marker": {
             "line": {
              "color": "#E5ECF6",
              "width": 0.5
             },
             "pattern": {
              "fillmode": "overlay",
              "size": 10,
              "solidity": 0.2
             }
            },
            "type": "bar"
           }
          ],
          "barpolar": [
           {
            "marker": {
             "line": {
              "color": "#E5ECF6",
              "width": 0.5
             },
             "pattern": {
              "fillmode": "overlay",
              "size": 10,
              "solidity": 0.2
             }
            },
            "type": "barpolar"
           }
          ],
          "carpet": [
           {
            "aaxis": {
             "endlinecolor": "#2a3f5f",
             "gridcolor": "white",
             "linecolor": "white",
             "minorgridcolor": "white",
             "startlinecolor": "#2a3f5f"
            },
            "baxis": {
             "endlinecolor": "#2a3f5f",
             "gridcolor": "white",
             "linecolor": "white",
             "minorgridcolor": "white",
             "startlinecolor": "#2a3f5f"
            },
            "type": "carpet"
           }
          ],
          "choropleth": [
           {
            "colorbar": {
             "outlinewidth": 0,
             "ticks": ""
            },
            "type": "choropleth"
           }
          ],
          "contour": [
           {
            "colorbar": {
             "outlinewidth": 0,
             "ticks": ""
            },
            "colorscale": [
             [
              0,
              "#0d0887"
             ],
             [
              0.1111111111111111,
              "#46039f"
             ],
             [
              0.2222222222222222,
              "#7201a8"
             ],
             [
              0.3333333333333333,
              "#9c179e"
             ],
             [
              0.4444444444444444,
              "#bd3786"
             ],
             [
              0.5555555555555556,
              "#d8576b"
             ],
             [
              0.6666666666666666,
              "#ed7953"
             ],
             [
              0.7777777777777778,
              "#fb9f3a"
             ],
             [
              0.8888888888888888,
              "#fdca26"
             ],
             [
              1,
              "#f0f921"
             ]
            ],
            "type": "contour"
           }
          ],
          "contourcarpet": [
           {
            "colorbar": {
             "outlinewidth": 0,
             "ticks": ""
            },
            "type": "contourcarpet"
           }
          ],
          "heatmap": [
           {
            "colorbar": {
             "outlinewidth": 0,
             "ticks": ""
            },
            "colorscale": [
             [
              0,
              "#0d0887"
             ],
             [
              0.1111111111111111,
              "#46039f"
             ],
             [
              0.2222222222222222,
              "#7201a8"
             ],
             [
              0.3333333333333333,
              "#9c179e"
             ],
             [
              0.4444444444444444,
              "#bd3786"
             ],
             [
              0.5555555555555556,
              "#d8576b"
             ],
             [
              0.6666666666666666,
              "#ed7953"
             ],
             [
              0.7777777777777778,
              "#fb9f3a"
             ],
             [
              0.8888888888888888,
              "#fdca26"
             ],
             [
              1,
              "#f0f921"
             ]
            ],
            "type": "heatmap"
           }
          ],
          "heatmapgl": [
           {
            "colorbar": {
             "outlinewidth": 0,
             "ticks": ""
            },
            "colorscale": [
             [
              0,
              "#0d0887"
             ],
             [
              0.1111111111111111,
              "#46039f"
             ],
             [
              0.2222222222222222,
              "#7201a8"
             ],
             [
              0.3333333333333333,
              "#9c179e"
             ],
             [
              0.4444444444444444,
              "#bd3786"
             ],
             [
              0.5555555555555556,
              "#d8576b"
             ],
             [
              0.6666666666666666,
              "#ed7953"
             ],
             [
              0.7777777777777778,
              "#fb9f3a"
             ],
             [
              0.8888888888888888,
              "#fdca26"
             ],
             [
              1,
              "#f0f921"
             ]
            ],
            "type": "heatmapgl"
           }
          ],
          "histogram": [
           {
            "marker": {
             "pattern": {
              "fillmode": "overlay",
              "size": 10,
              "solidity": 0.2
             }
            },
            "type": "histogram"
           }
          ],
          "histogram2d": [
           {
            "colorbar": {
             "outlinewidth": 0,
             "ticks": ""
            },
            "colorscale": [
             [
              0,
              "#0d0887"
             ],
             [
              0.1111111111111111,
              "#46039f"
             ],
             [
              0.2222222222222222,
              "#7201a8"
             ],
             [
              0.3333333333333333,
              "#9c179e"
             ],
             [
              0.4444444444444444,
              "#bd3786"
             ],
             [
              0.5555555555555556,
              "#d8576b"
             ],
             [
              0.6666666666666666,
              "#ed7953"
             ],
             [
              0.7777777777777778,
              "#fb9f3a"
             ],
             [
              0.8888888888888888,
              "#fdca26"
             ],
             [
              1,
              "#f0f921"
             ]
            ],
            "type": "histogram2d"
           }
          ],
          "histogram2dcontour": [
           {
            "colorbar": {
             "outlinewidth": 0,
             "ticks": ""
            },
            "colorscale": [
             [
              0,
              "#0d0887"
             ],
             [
              0.1111111111111111,
              "#46039f"
             ],
             [
              0.2222222222222222,
              "#7201a8"
             ],
             [
              0.3333333333333333,
              "#9c179e"
             ],
             [
              0.4444444444444444,
              "#bd3786"
             ],
             [
              0.5555555555555556,
              "#d8576b"
             ],
             [
              0.6666666666666666,
              "#ed7953"
             ],
             [
              0.7777777777777778,
              "#fb9f3a"
             ],
             [
              0.8888888888888888,
              "#fdca26"
             ],
             [
              1,
              "#f0f921"
             ]
            ],
            "type": "histogram2dcontour"
           }
          ],
          "mesh3d": [
           {
            "colorbar": {
             "outlinewidth": 0,
             "ticks": ""
            },
            "type": "mesh3d"
           }
          ],
          "parcoords": [
           {
            "line": {
             "colorbar": {
              "outlinewidth": 0,
              "ticks": ""
             }
            },
            "type": "parcoords"
           }
          ],
          "pie": [
           {
            "automargin": true,
            "type": "pie"
           }
          ],
          "scatter": [
           {
            "marker": {
             "colorbar": {
              "outlinewidth": 0,
              "ticks": ""
             }
            },
            "type": "scatter"
           }
          ],
          "scatter3d": [
           {
            "line": {
             "colorbar": {
              "outlinewidth": 0,
              "ticks": ""
             }
            },
            "marker": {
             "colorbar": {
              "outlinewidth": 0,
              "ticks": ""
             }
            },
            "type": "scatter3d"
           }
          ],
          "scattercarpet": [
           {
            "marker": {
             "colorbar": {
              "outlinewidth": 0,
              "ticks": ""
             }
            },
            "type": "scattercarpet"
           }
          ],
          "scattergeo": [
           {
            "marker": {
             "colorbar": {
              "outlinewidth": 0,
              "ticks": ""
             }
            },
            "type": "scattergeo"
           }
          ],
          "scattergl": [
           {
            "marker": {
             "colorbar": {
              "outlinewidth": 0,
              "ticks": ""
             }
            },
            "type": "scattergl"
           }
          ],
          "scattermapbox": [
           {
            "marker": {
             "colorbar": {
              "outlinewidth": 0,
              "ticks": ""
             }
            },
            "type": "scattermapbox"
           }
          ],
          "scatterpolar": [
           {
            "marker": {
             "colorbar": {
              "outlinewidth": 0,
              "ticks": ""
             }
            },
            "type": "scatterpolar"
           }
          ],
          "scatterpolargl": [
           {
            "marker": {
             "colorbar": {
              "outlinewidth": 0,
              "ticks": ""
             }
            },
            "type": "scatterpolargl"
           }
          ],
          "scatterternary": [
           {
            "marker": {
             "colorbar": {
              "outlinewidth": 0,
              "ticks": ""
             }
            },
            "type": "scatterternary"
           }
          ],
          "surface": [
           {
            "colorbar": {
             "outlinewidth": 0,
             "ticks": ""
            },
            "colorscale": [
             [
              0,
              "#0d0887"
             ],
             [
              0.1111111111111111,
              "#46039f"
             ],
             [
              0.2222222222222222,
              "#7201a8"
             ],
             [
              0.3333333333333333,
              "#9c179e"
             ],
             [
              0.4444444444444444,
              "#bd3786"
             ],
             [
              0.5555555555555556,
              "#d8576b"
             ],
             [
              0.6666666666666666,
              "#ed7953"
             ],
             [
              0.7777777777777778,
              "#fb9f3a"
             ],
             [
              0.8888888888888888,
              "#fdca26"
             ],
             [
              1,
              "#f0f921"
             ]
            ],
            "type": "surface"
           }
          ],
          "table": [
           {
            "cells": {
             "fill": {
              "color": "#EBF0F8"
             },
             "line": {
              "color": "white"
             }
            },
            "header": {
             "fill": {
              "color": "#C8D4E3"
             },
             "line": {
              "color": "white"
             }
            },
            "type": "table"
           }
          ]
         },
         "layout": {
          "annotationdefaults": {
           "arrowcolor": "#2a3f5f",
           "arrowhead": 0,
           "arrowwidth": 1
          },
          "autotypenumbers": "strict",
          "coloraxis": {
           "colorbar": {
            "outlinewidth": 0,
            "ticks": ""
           }
          },
          "colorscale": {
           "diverging": [
            [
             0,
             "#8e0152"
            ],
            [
             0.1,
             "#c51b7d"
            ],
            [
             0.2,
             "#de77ae"
            ],
            [
             0.3,
             "#f1b6da"
            ],
            [
             0.4,
             "#fde0ef"
            ],
            [
             0.5,
             "#f7f7f7"
            ],
            [
             0.6,
             "#e6f5d0"
            ],
            [
             0.7,
             "#b8e186"
            ],
            [
             0.8,
             "#7fbc41"
            ],
            [
             0.9,
             "#4d9221"
            ],
            [
             1,
             "#276419"
            ]
           ],
           "sequential": [
            [
             0,
             "#0d0887"
            ],
            [
             0.1111111111111111,
             "#46039f"
            ],
            [
             0.2222222222222222,
             "#7201a8"
            ],
            [
             0.3333333333333333,
             "#9c179e"
            ],
            [
             0.4444444444444444,
             "#bd3786"
            ],
            [
             0.5555555555555556,
             "#d8576b"
            ],
            [
             0.6666666666666666,
             "#ed7953"
            ],
            [
             0.7777777777777778,
             "#fb9f3a"
            ],
            [
             0.8888888888888888,
             "#fdca26"
            ],
            [
             1,
             "#f0f921"
            ]
           ],
           "sequentialminus": [
            [
             0,
             "#0d0887"
            ],
            [
             0.1111111111111111,
             "#46039f"
            ],
            [
             0.2222222222222222,
             "#7201a8"
            ],
            [
             0.3333333333333333,
             "#9c179e"
            ],
            [
             0.4444444444444444,
             "#bd3786"
            ],
            [
             0.5555555555555556,
             "#d8576b"
            ],
            [
             0.6666666666666666,
             "#ed7953"
            ],
            [
             0.7777777777777778,
             "#fb9f3a"
            ],
            [
             0.8888888888888888,
             "#fdca26"
            ],
            [
             1,
             "#f0f921"
            ]
           ]
          },
          "colorway": [
           "#636efa",
           "#EF553B",
           "#00cc96",
           "#ab63fa",
           "#FFA15A",
           "#19d3f3",
           "#FF6692",
           "#B6E880",
           "#FF97FF",
           "#FECB52"
          ],
          "font": {
           "color": "#2a3f5f"
          },
          "geo": {
           "bgcolor": "white",
           "lakecolor": "white",
           "landcolor": "#E5ECF6",
           "showlakes": true,
           "showland": true,
           "subunitcolor": "white"
          },
          "hoverlabel": {
           "align": "left"
          },
          "hovermode": "closest",
          "mapbox": {
           "style": "light"
          },
          "paper_bgcolor": "white",
          "plot_bgcolor": "#E5ECF6",
          "polar": {
           "angularaxis": {
            "gridcolor": "white",
            "linecolor": "white",
            "ticks": ""
           },
           "bgcolor": "#E5ECF6",
           "radialaxis": {
            "gridcolor": "white",
            "linecolor": "white",
            "ticks": ""
           }
          },
          "scene": {
           "xaxis": {
            "backgroundcolor": "#E5ECF6",
            "gridcolor": "white",
            "gridwidth": 2,
            "linecolor": "white",
            "showbackground": true,
            "ticks": "",
            "zerolinecolor": "white"
           },
           "yaxis": {
            "backgroundcolor": "#E5ECF6",
            "gridcolor": "white",
            "gridwidth": 2,
            "linecolor": "white",
            "showbackground": true,
            "ticks": "",
            "zerolinecolor": "white"
           },
           "zaxis": {
            "backgroundcolor": "#E5ECF6",
            "gridcolor": "white",
            "gridwidth": 2,
            "linecolor": "white",
            "showbackground": true,
            "ticks": "",
            "zerolinecolor": "white"
           }
          },
          "shapedefaults": {
           "line": {
            "color": "#2a3f5f"
           }
          },
          "ternary": {
           "aaxis": {
            "gridcolor": "white",
            "linecolor": "white",
            "ticks": ""
           },
           "baxis": {
            "gridcolor": "white",
            "linecolor": "white",
            "ticks": ""
           },
           "bgcolor": "#E5ECF6",
           "caxis": {
            "gridcolor": "white",
            "linecolor": "white",
            "ticks": ""
           }
          },
          "title": {
           "x": 0.05
          },
          "xaxis": {
           "automargin": true,
           "gridcolor": "white",
           "linecolor": "white",
           "ticks": "",
           "title": {
            "standoff": 15
           },
           "zerolinecolor": "white",
           "zerolinewidth": 2
          },
          "yaxis": {
           "automargin": true,
           "gridcolor": "white",
           "linecolor": "white",
           "ticks": "",
           "title": {
            "standoff": 15
           },
           "zerolinecolor": "white",
           "zerolinewidth": 2
          }
         }
        },
        "title": {
         "text": "Эксперимент №2",
         "x": 0.5
        },
        "width": 1100,
        "xaxis": {
         "anchor": "y",
         "domain": [
          0,
          1
         ],
         "range": [
          0.1,
          0.7
         ],
         "title": {
          "text": "delta_po"
         }
        },
        "xaxis2": {
         "anchor": "y2",
         "domain": [
          0,
          1
         ],
         "range": [
          0.1,
          0.7
         ],
         "title": {
          "text": "delta_po"
         }
        },
        "yaxis": {
         "anchor": "x",
         "domain": [
          0.26875,
          0.4625
         ],
         "range": [
          45,
          70
         ],
         "title": {
          "text": "K_nq"
         }
        },
        "yaxis2": {
         "anchor": "x2",
         "domain": [
          0,
          0.19375
         ],
         "range": [
          25,
          50
         ],
         "title": {
          "text": "K_nkm"
         }
        }
       }
      },
      "text/html": [
       "<div>                            <div id=\"d8bb9ac4-63a3-40cf-a1af-aecd5afb5dbd\" class=\"plotly-graph-div\" style=\"height:1700px; width:1100px;\"></div>            <script type=\"text/javascript\">                require([\"plotly\"], function(Plotly) {                    window.PLOTLYENV=window.PLOTLYENV || {};                                    if (document.getElementById(\"d8bb9ac4-63a3-40cf-a1af-aecd5afb5dbd\")) {                    Plotly.newPlot(                        \"d8bb9ac4-63a3-40cf-a1af-aecd5afb5dbd\",                        [{\"name\":\"\\u041e\\u0442\\u043d\\u043e\\u0441\\u0438\\u0442\\u0435\\u043b\\u044c\\u043d\\u043e\\u0435 \\u043a\\u043e\\u043b-\\u0432\\u043e \\u0442\\u043e\\u043f\\u043b\\u0438\\u0432\\u0430 \\u0432 \\u043a\\u0430\\u0436\\u0434\\u043e\\u043c \\u0441\\u0435\\u043a\\u0442\\u043e\\u0440\\u0435 (V_otn)\",\"r\":[0.846,0.81,0.822,0.785,0.967,1.003,0.967,1.329,0.918,1.16,1.184,1.208],\"theta\":[0,30,60,90,120,150,180,210,240,270,300,330,360],\"thetaunit\":\"degrees\",\"type\":\"scatterpolar\",\"subplot\":\"polar\"},{\"name\":\"\\u041e\\u0442\\u043d\\u043e\\u0441\\u0438\\u0442\\u0435\\u043b\\u044c\\u043d\\u043e\\u0435 \\u0437\\u043d\\u0430\\u0447\\u0435\\u043d\\u0438\\u0435 \\u0441\\u043e\\u043e\\u0442\\u043d\\u043e\\u0448\\u0435\\u043d\\u0438\\u044f \\u043a\\u043e\\u043c\\u043f\\u043e\\u043d\\u0435\\u043d\\u0442\\u043e\\u0432 (Km_otn)\",\"r\":[1.158,0.811,0.811,0.927,1.043,1.004,1.081,0.927,1.158,1.081,0.888,1.081],\"theta\":[0,30,60,90,120,150,180,210,240,270,300,330,360],\"thetaunit\":\"degrees\",\"type\":\"scatterpolar\",\"subplot\":\"polar2\"},{\"name\":\"\\u041a\\u043e\\u044d\\u0444-\\u0442 \\u043d\\u0435\\u0440\\u0430\\u0432\\u043d\\u043e\\u043c\\u0435\\u0440\\u043d\\u043e\\u0441\\u0442\\u0438 \\u043f\\u043e \\u043e\\u0431\\u044a\\u0435\\u043c\\u043d\\u043e\\u0439 \\u0440\\u0430\\u0441\\u0445\\u043e\\u0434\\u043d\\u043e\\u043d\\u0430\\u043f\\u0440 (K_nq)\",\"x\":[0.125,0.25,0.375,0.5,0.625],\"y\":[55.95854922279793,54.38066465256798,55.92233009708738,65.02463054187191,50.46728971962617],\"type\":\"scatter\",\"xaxis\":\"x\",\"yaxis\":\"y\"},{\"name\":\"\\u041a\\u043e\\u044d\\u0444-\\u0442 \\u043d\\u0435\\u0440\\u0430\\u0432\\u043d\\u043e\\u043c\\u0435\\u0440\\u043d\\u043e\\u0441\\u0442\\u0438 \\u043f\\u043e \\u0441\\u043e\\u043e\\u0442\\u043d. \\u043a\\u043e\\u043c\\u043f\\u043e\\u043d\\u0435\\u043d\\u0442\\u043e\\u0432 (K_nkm)\",\"x\":[0.125,0.25,0.375,0.5,0.625],\"y\":[40.18321882156985,34.754034610149716,48.36273068757146,29.70731707317073,31.95746968520399],\"type\":\"scatter\",\"xaxis\":\"x2\",\"yaxis\":\"y2\"}],                        {\"template\":{\"data\":{\"bar\":[{\"error_x\":{\"color\":\"#2a3f5f\"},\"error_y\":{\"color\":\"#2a3f5f\"},\"marker\":{\"line\":{\"color\":\"#E5ECF6\",\"width\":0.5},\"pattern\":{\"fillmode\":\"overlay\",\"size\":10,\"solidity\":0.2}},\"type\":\"bar\"}],\"barpolar\":[{\"marker\":{\"line\":{\"color\":\"#E5ECF6\",\"width\":0.5},\"pattern\":{\"fillmode\":\"overlay\",\"size\":10,\"solidity\":0.2}},\"type\":\"barpolar\"}],\"carpet\":[{\"aaxis\":{\"endlinecolor\":\"#2a3f5f\",\"gridcolor\":\"white\",\"linecolor\":\"white\",\"minorgridcolor\":\"white\",\"startlinecolor\":\"#2a3f5f\"},\"baxis\":{\"endlinecolor\":\"#2a3f5f\",\"gridcolor\":\"white\",\"linecolor\":\"white\",\"minorgridcolor\":\"white\",\"startlinecolor\":\"#2a3f5f\"},\"type\":\"carpet\"}],\"choropleth\":[{\"colorbar\":{\"outlinewidth\":0,\"ticks\":\"\"},\"type\":\"choropleth\"}],\"contour\":[{\"colorbar\":{\"outlinewidth\":0,\"ticks\":\"\"},\"colorscale\":[[0.0,\"#0d0887\"],[0.1111111111111111,\"#46039f\"],[0.2222222222222222,\"#7201a8\"],[0.3333333333333333,\"#9c179e\"],[0.4444444444444444,\"#bd3786\"],[0.5555555555555556,\"#d8576b\"],[0.6666666666666666,\"#ed7953\"],[0.7777777777777778,\"#fb9f3a\"],[0.8888888888888888,\"#fdca26\"],[1.0,\"#f0f921\"]],\"type\":\"contour\"}],\"contourcarpet\":[{\"colorbar\":{\"outlinewidth\":0,\"ticks\":\"\"},\"type\":\"contourcarpet\"}],\"heatmap\":[{\"colorbar\":{\"outlinewidth\":0,\"ticks\":\"\"},\"colorscale\":[[0.0,\"#0d0887\"],[0.1111111111111111,\"#46039f\"],[0.2222222222222222,\"#7201a8\"],[0.3333333333333333,\"#9c179e\"],[0.4444444444444444,\"#bd3786\"],[0.5555555555555556,\"#d8576b\"],[0.6666666666666666,\"#ed7953\"],[0.7777777777777778,\"#fb9f3a\"],[0.8888888888888888,\"#fdca26\"],[1.0,\"#f0f921\"]],\"type\":\"heatmap\"}],\"heatmapgl\":[{\"colorbar\":{\"outlinewidth\":0,\"ticks\":\"\"},\"colorscale\":[[0.0,\"#0d0887\"],[0.1111111111111111,\"#46039f\"],[0.2222222222222222,\"#7201a8\"],[0.3333333333333333,\"#9c179e\"],[0.4444444444444444,\"#bd3786\"],[0.5555555555555556,\"#d8576b\"],[0.6666666666666666,\"#ed7953\"],[0.7777777777777778,\"#fb9f3a\"],[0.8888888888888888,\"#fdca26\"],[1.0,\"#f0f921\"]],\"type\":\"heatmapgl\"}],\"histogram\":[{\"marker\":{\"pattern\":{\"fillmode\":\"overlay\",\"size\":10,\"solidity\":0.2}},\"type\":\"histogram\"}],\"histogram2d\":[{\"colorbar\":{\"outlinewidth\":0,\"ticks\":\"\"},\"colorscale\":[[0.0,\"#0d0887\"],[0.1111111111111111,\"#46039f\"],[0.2222222222222222,\"#7201a8\"],[0.3333333333333333,\"#9c179e\"],[0.4444444444444444,\"#bd3786\"],[0.5555555555555556,\"#d8576b\"],[0.6666666666666666,\"#ed7953\"],[0.7777777777777778,\"#fb9f3a\"],[0.8888888888888888,\"#fdca26\"],[1.0,\"#f0f921\"]],\"type\":\"histogram2d\"}],\"histogram2dcontour\":[{\"colorbar\":{\"outlinewidth\":0,\"ticks\":\"\"},\"colorscale\":[[0.0,\"#0d0887\"],[0.1111111111111111,\"#46039f\"],[0.2222222222222222,\"#7201a8\"],[0.3333333333333333,\"#9c179e\"],[0.4444444444444444,\"#bd3786\"],[0.5555555555555556,\"#d8576b\"],[0.6666666666666666,\"#ed7953\"],[0.7777777777777778,\"#fb9f3a\"],[0.8888888888888888,\"#fdca26\"],[1.0,\"#f0f921\"]],\"type\":\"histogram2dcontour\"}],\"mesh3d\":[{\"colorbar\":{\"outlinewidth\":0,\"ticks\":\"\"},\"type\":\"mesh3d\"}],\"parcoords\":[{\"line\":{\"colorbar\":{\"outlinewidth\":0,\"ticks\":\"\"}},\"type\":\"parcoords\"}],\"pie\":[{\"automargin\":true,\"type\":\"pie\"}],\"scatter\":[{\"marker\":{\"colorbar\":{\"outlinewidth\":0,\"ticks\":\"\"}},\"type\":\"scatter\"}],\"scatter3d\":[{\"line\":{\"colorbar\":{\"outlinewidth\":0,\"ticks\":\"\"}},\"marker\":{\"colorbar\":{\"outlinewidth\":0,\"ticks\":\"\"}},\"type\":\"scatter3d\"}],\"scattercarpet\":[{\"marker\":{\"colorbar\":{\"outlinewidth\":0,\"ticks\":\"\"}},\"type\":\"scattercarpet\"}],\"scattergeo\":[{\"marker\":{\"colorbar\":{\"outlinewidth\":0,\"ticks\":\"\"}},\"type\":\"scattergeo\"}],\"scattergl\":[{\"marker\":{\"colorbar\":{\"outlinewidth\":0,\"ticks\":\"\"}},\"type\":\"scattergl\"}],\"scattermapbox\":[{\"marker\":{\"colorbar\":{\"outlinewidth\":0,\"ticks\":\"\"}},\"type\":\"scattermapbox\"}],\"scatterpolar\":[{\"marker\":{\"colorbar\":{\"outlinewidth\":0,\"ticks\":\"\"}},\"type\":\"scatterpolar\"}],\"scatterpolargl\":[{\"marker\":{\"colorbar\":{\"outlinewidth\":0,\"ticks\":\"\"}},\"type\":\"scatterpolargl\"}],\"scatterternary\":[{\"marker\":{\"colorbar\":{\"outlinewidth\":0,\"ticks\":\"\"}},\"type\":\"scatterternary\"}],\"surface\":[{\"colorbar\":{\"outlinewidth\":0,\"ticks\":\"\"},\"colorscale\":[[0.0,\"#0d0887\"],[0.1111111111111111,\"#46039f\"],[0.2222222222222222,\"#7201a8\"],[0.3333333333333333,\"#9c179e\"],[0.4444444444444444,\"#bd3786\"],[0.5555555555555556,\"#d8576b\"],[0.6666666666666666,\"#ed7953\"],[0.7777777777777778,\"#fb9f3a\"],[0.8888888888888888,\"#fdca26\"],[1.0,\"#f0f921\"]],\"type\":\"surface\"}],\"table\":[{\"cells\":{\"fill\":{\"color\":\"#EBF0F8\"},\"line\":{\"color\":\"white\"}},\"header\":{\"fill\":{\"color\":\"#C8D4E3\"},\"line\":{\"color\":\"white\"}},\"type\":\"table\"}]},\"layout\":{\"annotationdefaults\":{\"arrowcolor\":\"#2a3f5f\",\"arrowhead\":0,\"arrowwidth\":1},\"autotypenumbers\":\"strict\",\"coloraxis\":{\"colorbar\":{\"outlinewidth\":0,\"ticks\":\"\"}},\"colorscale\":{\"diverging\":[[0,\"#8e0152\"],[0.1,\"#c51b7d\"],[0.2,\"#de77ae\"],[0.3,\"#f1b6da\"],[0.4,\"#fde0ef\"],[0.5,\"#f7f7f7\"],[0.6,\"#e6f5d0\"],[0.7,\"#b8e186\"],[0.8,\"#7fbc41\"],[0.9,\"#4d9221\"],[1,\"#276419\"]],\"sequential\":[[0.0,\"#0d0887\"],[0.1111111111111111,\"#46039f\"],[0.2222222222222222,\"#7201a8\"],[0.3333333333333333,\"#9c179e\"],[0.4444444444444444,\"#bd3786\"],[0.5555555555555556,\"#d8576b\"],[0.6666666666666666,\"#ed7953\"],[0.7777777777777778,\"#fb9f3a\"],[0.8888888888888888,\"#fdca26\"],[1.0,\"#f0f921\"]],\"sequentialminus\":[[0.0,\"#0d0887\"],[0.1111111111111111,\"#46039f\"],[0.2222222222222222,\"#7201a8\"],[0.3333333333333333,\"#9c179e\"],[0.4444444444444444,\"#bd3786\"],[0.5555555555555556,\"#d8576b\"],[0.6666666666666666,\"#ed7953\"],[0.7777777777777778,\"#fb9f3a\"],[0.8888888888888888,\"#fdca26\"],[1.0,\"#f0f921\"]]},\"colorway\":[\"#636efa\",\"#EF553B\",\"#00cc96\",\"#ab63fa\",\"#FFA15A\",\"#19d3f3\",\"#FF6692\",\"#B6E880\",\"#FF97FF\",\"#FECB52\"],\"font\":{\"color\":\"#2a3f5f\"},\"geo\":{\"bgcolor\":\"white\",\"lakecolor\":\"white\",\"landcolor\":\"#E5ECF6\",\"showlakes\":true,\"showland\":true,\"subunitcolor\":\"white\"},\"hoverlabel\":{\"align\":\"left\"},\"hovermode\":\"closest\",\"mapbox\":{\"style\":\"light\"},\"paper_bgcolor\":\"white\",\"plot_bgcolor\":\"#E5ECF6\",\"polar\":{\"angularaxis\":{\"gridcolor\":\"white\",\"linecolor\":\"white\",\"ticks\":\"\"},\"bgcolor\":\"#E5ECF6\",\"radialaxis\":{\"gridcolor\":\"white\",\"linecolor\":\"white\",\"ticks\":\"\"}},\"scene\":{\"xaxis\":{\"backgroundcolor\":\"#E5ECF6\",\"gridcolor\":\"white\",\"gridwidth\":2,\"linecolor\":\"white\",\"showbackground\":true,\"ticks\":\"\",\"zerolinecolor\":\"white\"},\"yaxis\":{\"backgroundcolor\":\"#E5ECF6\",\"gridcolor\":\"white\",\"gridwidth\":2,\"linecolor\":\"white\",\"showbackground\":true,\"ticks\":\"\",\"zerolinecolor\":\"white\"},\"zaxis\":{\"backgroundcolor\":\"#E5ECF6\",\"gridcolor\":\"white\",\"gridwidth\":2,\"linecolor\":\"white\",\"showbackground\":true,\"ticks\":\"\",\"zerolinecolor\":\"white\"}},\"shapedefaults\":{\"line\":{\"color\":\"#2a3f5f\"}},\"ternary\":{\"aaxis\":{\"gridcolor\":\"white\",\"linecolor\":\"white\",\"ticks\":\"\"},\"baxis\":{\"gridcolor\":\"white\",\"linecolor\":\"white\",\"ticks\":\"\"},\"bgcolor\":\"#E5ECF6\",\"caxis\":{\"gridcolor\":\"white\",\"linecolor\":\"white\",\"ticks\":\"\"}},\"title\":{\"x\":0.05},\"xaxis\":{\"automargin\":true,\"gridcolor\":\"white\",\"linecolor\":\"white\",\"ticks\":\"\",\"title\":{\"standoff\":15},\"zerolinecolor\":\"white\",\"zerolinewidth\":2},\"yaxis\":{\"automargin\":true,\"gridcolor\":\"white\",\"linecolor\":\"white\",\"ticks\":\"\",\"title\":{\"standoff\":15},\"zerolinecolor\":\"white\",\"zerolinewidth\":2}}},\"polar\":{\"domain\":{\"x\":[0.0,1.0],\"y\":[0.80625,1.0]},\"radialaxis\":{\"categoryorder\":\"category descending\"},\"angularaxis\":{\"thetaunit\":\"radians\",\"dtick\":0.5235987755982988}},\"polar2\":{\"domain\":{\"x\":[0.0,1.0],\"y\":[0.5375,0.73125]},\"radialaxis\":{\"categoryorder\":\"category descending\"},\"angularaxis\":{\"thetaunit\":\"radians\",\"dtick\":0.5235987755982988}},\"xaxis\":{\"anchor\":\"y\",\"domain\":[0.0,1.0],\"title\":{\"text\":\"delta_po\"},\"range\":[0.1,0.7]},\"yaxis\":{\"anchor\":\"x\",\"domain\":[0.26875,0.4625],\"title\":{\"text\":\"K_nq\"},\"range\":[45,70]},\"xaxis2\":{\"anchor\":\"y2\",\"domain\":[0.0,1.0],\"title\":{\"text\":\"delta_po\"},\"range\":[0.1,0.7]},\"yaxis2\":{\"anchor\":\"x2\",\"domain\":[0.0,0.19375],\"title\":{\"text\":\"K_nkm\"},\"range\":[25,50]},\"title\":{\"text\":\"\\u042d\\u043a\\u0441\\u043f\\u0435\\u0440\\u0438\\u043c\\u0435\\u043d\\u0442 \\u21162\",\"x\":0.5},\"width\":1100,\"height\":1700},                        {\"responsive\": true}                    ).then(function(){\n",
       "                            \n",
       "var gd = document.getElementById('d8bb9ac4-63a3-40cf-a1af-aecd5afb5dbd');\n",
       "var x = new MutationObserver(function (mutations, observer) {{\n",
       "        var display = window.getComputedStyle(gd).display;\n",
       "        if (!display || display === 'none') {{\n",
       "            console.log([gd, 'removed!']);\n",
       "            Plotly.purge(gd);\n",
       "            observer.disconnect();\n",
       "        }}\n",
       "}});\n",
       "\n",
       "// Listen for the removal of the full notebook cells\n",
       "var notebookContainer = gd.closest('#notebook-container');\n",
       "if (notebookContainer) {{\n",
       "    x.observe(notebookContainer, {childList: true});\n",
       "}}\n",
       "\n",
       "// Listen for the clearing of the current output cell\n",
       "var outputEl = gd.closest('.output');\n",
       "if (outputEl) {{\n",
       "    x.observe(outputEl, {childList: true});\n",
       "}}\n",
       "\n",
       "                        })                };                });            </script>        </div>"
      ]
     },
     "metadata": {},
     "output_type": "display_data"
    }
   ],
   "source": [
    "fig = make_subplots(\n",
    "    rows=4, cols=1,\n",
    "    specs=[[{\"type\": \"polar\"}], \n",
    "           [{\"type\": \"polar\"}],    # Делаю один холст под 4 графика\n",
    "           [{\"type\": \"xy\"}], \n",
    "           [{\"type\": \"xy\"}]],\n",
    ")\n",
    "\n",
    "fig.add_trace(go.Scatterpolar(\n",
    "      name = \"Относительное кол-во топлива в каждом секторе (V_otn)\",\n",
    "      r = values_array_V[1],\n",
    "      theta = [0, 30, 60, 90, 120, 150, 180, 210, 240, 270, 300, 330, 360],    # values_array_V[1] соотв. второму эксперим.\n",
    "      thetaunit = \"degrees\",                                                   # если хотите другой экмперимент, то меняйте индекс в квадратных скобках\n",
    "    ), 1, 1)\n",
    "\n",
    "fig.add_trace(go.Scatterpolar(\n",
    "      name = \"Относительное значение соотношения компонентов (Km_otn)\",\n",
    "      r = values_array_Km[1],\n",
    "      theta = [0, 30, 60, 90, 120, 150, 180, 210, 240, 270, 300, 330, 360],    # values_array_Km[1] соотв. второму эксперим.\n",
    "      thetaunit = \"degrees\",                                                   # если хотите другой экмперимент, то меняйте индекс в квадратных скобках\n",
    "    ), 2, 1)\n",
    "\n",
    "fig.add_trace(go.Scatter(\n",
    "    name = \"Коэф-т неравномерности по объемной расходнонапр (K_nq)\",           # Этот график общий для всех\n",
    "    x = delta_po,\n",
    "    y = values_array_K_nq\n",
    "    ), 3, 1)\n",
    "\n",
    "fig.add_trace(go.Scatter(\n",
    "    name = \"Коэф-т неравномерности по соотн. компонентов (K_nkm)\",             # Этот график общий для всех\n",
    "    x= delta_po ,\n",
    "    y = values_array_K_nkm\n",
    "    ), 4, 1)\n",
    "\n",
    "fig.update_xaxes(title_text=\"delta_po\", range=[0.1, 0.7], row=3, col=1)\n",
    "fig.update_xaxes(title_text=\"delta_po\", range=[0.1, 0.7], row=4, col=1)\n",
    "\n",
    "fig.update_yaxes(title_text=\"K_nq\", range=[45, 70], row=3, col=1)\n",
    "fig.update_yaxes(title_text=\"K_nkm\", range=[25, 50], row=4, col=1)\n",
    "\n",
    "#fig.update_traces(fill='toself')     # Раскоментить если хотите чтоб область внутри графика заполнилась цветом\n",
    "fig.update_layout(\n",
    "    {'title_text': 'Эксперимент №2', 'title_x': 0.5},     # Тут я шаманю с графиками розы ветров и заголовком холста\n",
    "    polar = dict(\n",
    "      radialaxis_categoryorder = \"category descending\",\n",
    "      angularaxis = dict(\n",
    "        thetaunit = \"radians\",\n",
    "        dtick = 3.141592653589793 / 6\n",
    "    )),\n",
    "    polar2 = dict(\n",
    "      radialaxis_categoryorder = \"category descending\",\n",
    "      angularaxis = dict(\n",
    "        thetaunit = \"radians\",\n",
    "        dtick = 3.141592653589793 / 6\n",
    "    ))\n",
    ")\n",
    "\n",
    "\n",
    "fig.layout.width = 1100\n",
    "fig.layout.height = 1700    # Эти строчки настраивают размер холста\n",
    "\n",
    "fig.show()"
   ]
  },
  {
   "cell_type": "code",
   "execution_count": null,
   "id": "1d66a2ae",
   "metadata": {},
   "outputs": [],
   "source": []
  }
 ],
 "metadata": {
  "kernelspec": {
   "display_name": "Python 3 (ipykernel)",
   "language": "python",
   "name": "python3"
  },
  "language_info": {
   "codemirror_mode": {
    "name": "ipython",
    "version": 3
   },
   "file_extension": ".py",
   "mimetype": "text/x-python",
   "name": "python",
   "nbconvert_exporter": "python",
   "pygments_lexer": "ipython3",
   "version": "3.9.12"
  }
 },
 "nbformat": 4,
 "nbformat_minor": 5
}
